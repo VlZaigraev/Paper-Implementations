{
 "cells": [
  {
   "cell_type": "code",
   "execution_count": 1,
   "metadata": {},
   "outputs": [],
   "source": [
    "import torch\n",
    "from torch import nn"
   ]
  },
  {
   "cell_type": "code",
   "execution_count": 19,
   "metadata": {},
   "outputs": [],
   "source": [
    "class InstanceNorm(nn.Module):\n",
    "\n",
    "    def __init__(self,\n",
    "                 num_channels: int = 3,\n",
    "                 eps: float = 1e-5,\n",
    "                 apply_affine: bool = True) -> None:\n",
    "        super().__init__()\n",
    "\n",
    "        self.num_channels = num_channels\n",
    "        self.eps = eps\n",
    "        self.apply_affine = apply_affine\n",
    "\n",
    "        if self.apply_affine:\n",
    "            self.scale = nn.Parameter(torch.ones(num_channels))\n",
    "            self.shift = nn.Parameter(torch.zeros(num_channels))\n",
    "\n",
    "    def forward(self, x: torch.Tensor):\n",
    "        \"\"\"\n",
    "        x is a tensor of shape [batch_size, channels, *] .\n",
    "        * denotes any number of (possibly 0) dimensions.\n",
    "        For example, in an image (2D) convolution this will be [batch_size, channels, height, width]\n",
    "        \"\"\"\n",
    "        \n",
    "        assert self.num_channels == x.shape[1]\n",
    "\n",
    "        x_old_shape = x.shape\n",
    "        x = x.flatten(start_dim=2) # to [batch_size, channels, n]\n",
    "        var, mean = torch.var_mean(x, dim = [-1], keepdim=True)\n",
    "\n",
    "        x_hat = (x - mean) / torch.sqrt(var + self.eps)\n",
    "        print(x_hat.shape)\n",
    "        #x_hat = x_hat.flatten(start_dim=2)\n",
    "        \n",
    "        if self.apply_affine:\n",
    "            x_hat = self.scale.reshape(1, -1, 1) * x_hat + self.shift.reshape(1, -1, 1)\n",
    "            \n",
    "        return x_hat.reshape(x_old_shape)\n"
   ]
  },
  {
   "cell_type": "code",
   "execution_count": 24,
   "metadata": {},
   "outputs": [
    {
     "name": "stdout",
     "output_type": "stream",
     "text": [
      "\n",
      "    shape: torch.Size([2, 3, 2, 4])\n",
      "    mean: tensor([[0.6075, 0.5635, 0.5203],\n",
      "        [0.3285, 0.4389, 0.4299]])\n",
      "    var: tensor([[0.0836, 0.0629, 0.0732],\n",
      "        [0.0558, 0.1078, 0.1039]])\n",
      "    \n",
      "torch.Size([2, 3, 8])\n",
      "\n",
      "    shape: torch.Size([2, 3, 2, 4])\n",
      "    mean: tensor([[-4.4703e-08, -8.4750e-08, -2.9802e-08],\n",
      "        [-2.9802e-08,  4.4703e-08, -1.4901e-08]], grad_fn=<MeanBackward1>)\n",
      "    var: tensor([[0.9999, 0.9998, 0.9999],\n",
      "        [0.9998, 0.9999, 0.9999]], grad_fn=<VarBackward0>)\n",
      "    \n"
     ]
    }
   ],
   "source": [
    "\n",
    "\n",
    "def print_info(x):\n",
    "    print(f\"\"\"\n",
    "    shape: {x.shape}\n",
    "    mean: {x.mean(dim = [2, 3])}\n",
    "    var: {x.var(dim=[2, 3])}\n",
    "    \"\"\"\n",
    "    )\n",
    "\n",
    "\n",
    "x = torch.rand([2, 3, 2, 4])\n",
    "print_info(x)\n",
    "\n",
    "instance_norm = InstanceNorm(3)\n",
    "x = instance_norm(x)\n",
    "print_info(x)\n"
   ]
  },
  {
   "cell_type": "code",
   "execution_count": 7,
   "metadata": {},
   "outputs": [
    {
     "data": {
      "text/plain": [
       "[1, 2, 3]"
      ]
     },
     "execution_count": 7,
     "metadata": {},
     "output_type": "execute_result"
    }
   ],
   "source": [
    "l"
   ]
  },
  {
   "cell_type": "code",
   "execution_count": null,
   "metadata": {},
   "outputs": [],
   "source": []
  }
 ],
 "metadata": {
  "kernelspec": {
   "display_name": "Python 3.9.7 ('base')",
   "language": "python",
   "name": "python3"
  },
  "language_info": {
   "codemirror_mode": {
    "name": "ipython",
    "version": 3
   },
   "file_extension": ".py",
   "mimetype": "text/x-python",
   "name": "python",
   "nbconvert_exporter": "python",
   "pygments_lexer": "ipython3",
   "version": "3.9.7"
  },
  "orig_nbformat": 4,
  "vscode": {
   "interpreter": {
    "hash": "d75bf56f6470173b1ac7bd9da905d241387559ca422a37986719b723ab6f9d4e"
   }
  }
 },
 "nbformat": 4,
 "nbformat_minor": 2
}
