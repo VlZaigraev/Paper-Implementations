{
 "cells": [
  {
   "cell_type": "code",
   "execution_count": 7,
   "metadata": {},
   "outputs": [],
   "source": [
    "import math\n",
    "import torch\n",
    "import torch.nn.functional as F\n",
    "from torch import nn"
   ]
  },
  {
   "cell_type": "code",
   "execution_count": 13,
   "metadata": {},
   "outputs": [
    {
     "name": "stdout",
     "output_type": "stream",
     "text": [
      "False\n"
     ]
    }
   ],
   "source": [
    "print(torch.arange(0,5,step=2, dtype=torch.float32).unsqueeze(1))"
   ]
  },
  {
   "cell_type": "code",
   "execution_count": null,
   "metadata": {},
   "outputs": [],
   "source": [
    "\n",
    "class PositionalEncoding(nn.Module):\n",
    "\n",
    "    def __init__(self,\n",
    "                 d_model: int,\n",
    "                 max_seq_len: int = 5000,\n",
    "                 n: int = 10**4,\n",
    "                 p_dropout: float = 0.4) -> None:\n",
    "\n",
    "        super().__init__()\n",
    "        self.positional_encodings = self.__get_pos_encodings__(max_seq_len, d_model)\n",
    "\n",
    "    def __get_pos_encodings__(self, max_seq_len: int, d_model: int):\n",
    "\n",
    "        encodings = torch.zeros(max_seq_len, d_model, requires_grad = False)\n",
    "\n",
    "        div_term = torch.pow(self.n, exponent = (torch.arange(0, d_model, step = 2, dtype = torch.float32) / d_model))\n",
    "        positions = torch.arange(max_seq_len, dtype = torch.float32) * div_term\n",
    "\n",
    "        encodings[:, 0::2] = torch.sin(positions)\n",
    "        encodings[:, 1::2] = torch.cos(positions)\n",
    "\n",
    "        return encodings.unsqueeze(1)\n",
    "\n",
    "    def forward(self, x: torch.Tensor):\n",
    "\n",
    "        return F.dropout(x +\n",
    "                         self.positional_encodings[:x.shape[0]])\n"
   ]
  },
  {
   "cell_type": "code",
   "execution_count": null,
   "metadata": {},
   "outputs": [],
   "source": []
  }
 ],
 "metadata": {
  "kernelspec": {
   "display_name": "Python 3.9.7 ('base')",
   "language": "python",
   "name": "python3"
  },
  "language_info": {
   "codemirror_mode": {
    "name": "ipython",
    "version": 3
   },
   "file_extension": ".py",
   "mimetype": "text/x-python",
   "name": "python",
   "nbconvert_exporter": "python",
   "pygments_lexer": "ipython3",
   "version": "3.9.7"
  },
  "orig_nbformat": 4,
  "vscode": {
   "interpreter": {
    "hash": "d75bf56f6470173b1ac7bd9da905d241387559ca422a37986719b723ab6f9d4e"
   }
  }
 },
 "nbformat": 4,
 "nbformat_minor": 2
}
