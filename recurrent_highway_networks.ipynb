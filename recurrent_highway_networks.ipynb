{
 "cells": [
  {
   "cell_type": "code",
   "execution_count": 1,
   "metadata": {},
   "outputs": [],
   "source": [
    "from typing import Tuple, Optional\n",
    "\n",
    "import torch\n",
    "import torch.nn.functional as F\n",
    "from torch import nn\n",
    "from torch import layer_norm"
   ]
  },
  {
   "cell_type": "code",
   "execution_count": 14,
   "metadata": {},
   "outputs": [],
   "source": [
    "from turtle import forward\n",
    "\n",
    "\n",
    "class RHNCell(nn.Module):\n",
    "\n",
    "    def __init__(self, input_dim: int, hidden_dim: int, depth: int, *args, **kwargs) -> None:\n",
    "        super().__init__(*args, **kwargs)\n",
    "\n",
    "        self.input_dim = input_dim\n",
    "        self.hidden_dim = hidden_dim\n",
    "        self.depth = depth\n",
    "\n",
    "        self.W_x = nn.Linear(input_dim, 2 * hidden_dim, bias = False)\n",
    "        self.W_h = nn.ModuleList([\n",
    "            nn.Linear(hidden_dim, 2 * hidden_dim)\n",
    "            for _ in range(depth)\n",
    "            ]) # D linear transformations\n",
    "\n",
    "    def forward(self, x: torch.Tensor, s: torch.Tensor):\n",
    "        \"\"\"\n",
    "        x: batch_size, input_dim\n",
    "        s: batch_size, hidden_dim\n",
    "\n",
    "        c = 1 - g as described in paper\n",
    "        \"\"\"\n",
    "        for d in range(self.depth):\n",
    "            h_and_g = self.W_h[d](s) if d == 0 \\\n",
    "                else self.W_h[d](s) + self.W_x(x)\n",
    "            h = F.tanh(h_and_g[:, :self.hidden_dim]) # or use h, g = h_and_g.chunk(hidden_dim, dim = -1)\n",
    "            g = F.sigmoid(h_and_g[:, self.hidden_dim:])\n",
    "\n",
    "        return h * g + s * (1 - g)\n",
    "\n",
    "        "
   ]
  },
  {
   "cell_type": "code",
   "execution_count": null,
   "metadata": {},
   "outputs": [],
   "source": [
    "class RHN(nn.Module):\n",
    "\n",
    "    def __init__(self, input_dim: int, hidden_dim: int, n_layers: int, depth: int, return_sequences: bool = True, batch_first = True) -> None:\n",
    "        super().__init__()\n",
    "\n",
    "        self.input_dim = input_dim\n",
    "        self.hidden_dim = hidden_dim\n",
    "        self.n_layers = n_layers\n",
    "        self.return_sequences = return_sequences\n",
    "        self.batch_first = batch_first\n",
    "\n",
    "        self.cells = nn.ModuleList([RHNCell(input_dim, hidden_dim, depth)] +\n",
    "                                    [RHNCell(hidden_dim, hidden_dim, depth) for _ in range(self.n_layers - 1)])\n",
    "\n",
    "    def forward(self, x: torch.Tensor, s: torch.Tensor):\n",
    "        \"\"\"\n",
    "        x : (batch_size, n_steps, feature_dim) if batch_first\n",
    "        else (n_steps, batch_size, feature_dim)\n",
    "        s : (n_layers, feature_dim)\n",
    "        \"\"\"\n",
    "        if self.batch_first:\n",
    "            x = x.transpose(0, 1)\n",
    "\n",
    "        n_steps, batch_size = x.shape[:2]\n",
    "        s = torch.zeros(self.n_layers, batch_size, self.hidden_dim)\n",
    "        out = []\n",
    "        \n",
    "        for t in range(n_steps):\n",
    "            inputs = x[t]\n",
    "            for l in range(self.n_layers):\n",
    "                s[l] = self.cells[l](inputs, s[l])\n",
    "                inputs = s[l]\n",
    "\n",
    "            out.append(s[-1])\n",
    "        \n",
    "        if not self.return_sequences: out = out[-1]\n",
    "\n",
    "        return out, s"
   ]
  },
  {
   "cell_type": "code",
   "execution_count": 11,
   "metadata": {},
   "outputs": [
    {
     "data": {
      "text/plain": [
       "torch.Size([2, 2])"
      ]
     },
     "execution_count": 11,
     "metadata": {},
     "output_type": "execute_result"
    }
   ],
   "source": [
    "hg = torch.Tensor([\\\n",
    "    [1,2,3,4],\n",
    "    [5,6,7,8]])\n",
    "\n",
    "hg.chunk(2, dim = -1)[0].shape"
   ]
  },
  {
   "cell_type": "code",
   "execution_count": 13,
   "metadata": {},
   "outputs": [
    {
     "data": {
      "text/plain": [
       "torch.Size([2, 2])"
      ]
     },
     "execution_count": 13,
     "metadata": {},
     "output_type": "execute_result"
    }
   ],
   "source": [
    "hg[:, :2].shape"
   ]
  },
  {
   "cell_type": "code",
   "execution_count": null,
   "metadata": {},
   "outputs": [],
   "source": []
  }
 ],
 "metadata": {
  "kernelspec": {
   "display_name": "Python 3.8.8 ('base')",
   "language": "python",
   "name": "python3"
  },
  "language_info": {
   "codemirror_mode": {
    "name": "ipython",
    "version": 3
   },
   "file_extension": ".py",
   "mimetype": "text/x-python",
   "name": "python",
   "nbconvert_exporter": "python",
   "pygments_lexer": "ipython3",
   "version": "3.8.8"
  },
  "orig_nbformat": 4,
  "vscode": {
   "interpreter": {
    "hash": "de4552d2adf5fffb15137fbd10619e3ca728a7b0d5298f8ca4e80460cb991e07"
   }
  }
 },
 "nbformat": 4,
 "nbformat_minor": 2
}
